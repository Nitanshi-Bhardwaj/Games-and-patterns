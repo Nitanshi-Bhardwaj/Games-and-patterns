{
  "nbformat": 4,
  "nbformat_minor": 0,
  "metadata": {
    "colab": {
      "provenance": [],
      "authorship_tag": "ABX9TyOu6kvGxpWedZFdz4x9Rcem",
      "include_colab_link": true
    },
    "kernelspec": {
      "name": "python3",
      "display_name": "Python 3"
    },
    "language_info": {
      "name": "python"
    }
  },
  "cells": [
    {
      "cell_type": "markdown",
      "metadata": {
        "id": "view-in-github",
        "colab_type": "text"
      },
      "source": [
        "<a href=\"https://colab.research.google.com/github/Nitanshi-Bhardwaj/Games-and-patterns/blob/main/cryptarithmetic.ipynb\" target=\"_parent\"><img src=\"https://colab.research.google.com/assets/colab-badge.svg\" alt=\"Open In Colab\"/></a>"
      ]
    },
    {
      "cell_type": "code",
      "execution_count": null,
      "metadata": {
        "colab": {
          "base_uri": "https://localhost:8080/"
        },
        "id": "_zJ-0On_btVs",
        "outputId": "70a69ccd-551d-4da3-9ab7-a7fe612fadd0"
      },
      "outputs": [
        {
          "output_type": "stream",
          "name": "stdout",
          "text": [
            "Yes\n"
          ]
        }
      ],
      "source": [
        "def isSolvable(words, result):\n",
        "\n",
        "    mp = [-1]*(26)\n",
        "     \n",
        "   \n",
        "    used = [0]*(10)\n",
        "\n",
        "    Hash = [0]*(26)\n",
        " \n",
        "    CharAtfront = [0]*(26)\n",
        " \n",
        "    uniq = \"\"\n",
        " \n",
        "    for word in range(len(words)):\n",
        "        for i in range(len(words[word])):\n",
        "           \n",
        "            ch = words[word][i]\n",
        " \n",
        "            Hash[ord(ch) - ord('A')] += pow(10, len(words[word]) - i - 1)\n",
        " \n",
        "            if mp[ord(ch) - ord('A')] == -1:\n",
        "                mp[ord(ch) - ord('A')] = 0\n",
        "                uniq += str(ch)\n",
        "            if i == 0 and len(words[word]) > 1:\n",
        "                CharAtfront[ord(ch) - ord('A')] = 1\n",
        " \n",
        "    for i in range(len(result)):\n",
        "        ch = result[i]\n",
        " \n",
        "        Hash[ord(ch) - ord('A')] -= pow(10, len(result) - i - 1)\n",
        "\n",
        "        if mp[ord(ch) - ord('A')] == -1:\n",
        "            mp[ord(ch) - ord('A')] = 0\n",
        "            uniq += str(ch)\n",
        " \n",
        "        if i == 0 and len(result) > 1:\n",
        "            CharAtfront[ord(ch) - ord('A')] = 1\n",
        " \n",
        "    mp = [-1]*(26)\n",
        " \n",
        "    return True\n",
        " \n",
        "def solve(words, i, S, mp, used, Hash, CharAtfront):\n",
        "    if i == len(words):\n",
        "        return S == 0\n",
        " \n",
        "    ch = words[i]\n",
        " \n",
        "    val = mp[ord(words[i]) - ord('A')]\n",
        " \n",
        "    if val != -1:\n",
        "\n",
        "        return solve(words, i + 1, S + val * Hash[ord(ch) - ord('A')], mp, used, Hash, CharAtfront)\n",
        " \n",
        "    x = False\n",
        " \n",
        "    for l in range(10):\n",
        "        if CharAtfront[ord(ch) - ord('A')] == 1 and l == 0:\n",
        "            continue\n",
        " \n",
        "        if used[l] == 1:\n",
        "            continue\n",
        " \n",
        "        mp[ord(ch) - ord('A')] = l\n",
        " \n",
        "        used[l] = 1\n",
        " \n",
        "        x |= solve(words, i + 1, S + l * Hash[ord(ch) - ord('A')], mp, used, Hash, CharAtfront)\n",
        "\n",
        "        mp[ord(ch) - ord('A')] = -1\n",
        " \n",
        "        used[l] = 0\n",
        "    return x\n",
        " \n",
        "arr = [ \"SIX\", \"SEVEN\", \"SEVEN\" ]\n",
        "S = \"TWENTY\"\n",
        " if isSolvable(arr, S):\n",
        "    print(\"Yes\")\n",
        "else:\n",
        "    print(\"No\")"
      ]
    }
  ]
}