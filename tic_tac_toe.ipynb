{
  "cells": [
    {
      "cell_type": "markdown",
      "metadata": {
        "id": "view-in-github",
        "colab_type": "text"
      },
      "source": [
        "<a href=\"https://colab.research.google.com/github/Nitanshi-Bhardwaj/Tic-Tac-Toe-game/blob/main/tic_tac_toe.ipynb\" target=\"_parent\"><img src=\"https://colab.research.google.com/assets/colab-badge.svg\" alt=\"Open In Colab\"/></a>"
      ]
    },
    {
      "cell_type": "code",
      "execution_count": null,
      "metadata": {
        "id": "LxLi1wM9KWaw"
      },
      "outputs": [],
      "source": [
        "def print_board():\n",
        "  for i in range(0,3):\n",
        "    for j in range(0,3):\n",
        "      print(map[2-i][j])\n",
        "      if j!=2:\n",
        "        print(\"|\")\n",
        "  print(\"\")   "
      ]
    },
    {
      "cell_type": "code",
      "execution_count": null,
      "metadata": {
        "colab": {
          "base_uri": "https://localhost:8080/"
        },
        "id": "v5ZAik-OMZu3",
        "outputId": "92a3b7e5-7ea5-4992-f499-cff66c874812"
      },
      "outputs": [
        {
          "name": "stdout",
          "output_type": "stream",
          "text": [
            "[[' ', ' ', ' '], [' ', ' ', ' '], [' ', ' ', ' ']]\n"
          ]
        }
      ],
      "source": [
        "map=[[\" \",\" \",\" \"],\n",
        "     [\" \",\" \",\" \"],\n",
        "     [\" \",\" \",\" \"]]\n",
        "\n",
        "print(map)   "
      ]
    },
    {
      "cell_type": "code",
      "execution_count": null,
      "metadata": {
        "id": "RtUyR2h6Nrls"
      },
      "outputs": [],
      "source": [
        "def check_done():\n",
        "  for i in range(0,3):\n",
        "    if((map[i][0]==map[i][1]==map[i][2]!=\" \")or(map[0][i]==map[1][i]==map[2][i]!=\" \")):\n",
        "      print(turn,\"won!\")\n",
        "      return True\n",
        "\n",
        "  if(map[0][0]==map[1][1]==map[2][2]!=\" \")or(map[0][2]==map[1][1]==map[2][0]!=\" \"):\n",
        "    print(turn,\"won!\")\n",
        "    return True\n",
        "\n",
        "  if \" \" not in map[0] and \" \" not in map[1] and \" \" not in map[2]:\n",
        "    print(\"Draw\")\n",
        "    return True\n",
        "\n",
        "  return False  \n",
        "\n"
      ]
    },
    {
      "cell_type": "code",
      "execution_count": null,
      "metadata": {
        "colab": {
          "background_save": true,
          "base_uri": "https://localhost:8080/"
        },
        "id": "sfjA3VkGQtpd",
        "outputId": "561bbdc7-ccf6-4aae-dfa3-a9712c6430be"
      },
      "outputs": [
        {
          "name": "stdout",
          "output_type": "stream",
          "text": [
            "<class 'map'>\n",
            "X 's turn\n",
            "Enter position\n",
            "7|8|9\n",
            "4|5|6\n",
            "1|2|3\n",
            "ERROR\n",
            "Enter position\n",
            "7|8|9\n",
            "4|5|6\n",
            "1|2|3\n",
            "ERROR\n",
            "Enter position\n",
            "7|8|9\n",
            "4|5|6\n",
            "1|2|3\n"
          ]
        }
      ],
      "source": [
        "turn=\"X\"\n",
        "done=False\n",
        "\n",
        "while done!=True:\n",
        "  print(map)\n",
        "  print(turn,\"'s turn\")\n",
        "\n",
        "  moved=False\n",
        "\n",
        "  while moved!=True:\n",
        "    print(\"Enter position\")\n",
        "    print(\"7|8|9\")\n",
        "    print(\"4|5|6\")\n",
        "    print(\"1|2|3\")\n",
        "\n",
        "    try:\n",
        "      pos=input(\"Select:\")\n",
        "      if((pos<=9)and(pos>=1)):\n",
        "        Y=pos/3\n",
        "        X=pos%3\n",
        "        if(X!=0):\n",
        "          X-=1\n",
        "        else:\n",
        "          X=2\n",
        "          Y-=1\n",
        "\n",
        "      if(map[Y][X]==\" \"):\n",
        "        map[Y][X]=turn\n",
        "        moved=True\n",
        "        done=check_done()\n",
        "\n",
        "        if(done==False):\n",
        "          if turn==\"X\":\n",
        "            turn=\"O\"\n",
        "          else:\n",
        "            turn=\"X\"\n",
        "\n",
        "    except:\n",
        "       print(\"ERROR\")         "
      ]
    }
  ],
  "metadata": {
    "colab": {
      "provenance": [],
      "authorship_tag": "ABX9TyN4kQ3LhIPq8h+lmgKF/zcl",
      "include_colab_link": true
    },
    "kernelspec": {
      "display_name": "Python 3",
      "name": "python3"
    },
    "language_info": {
      "name": "python"
    }
  },
  "nbformat": 4,
  "nbformat_minor": 0
}